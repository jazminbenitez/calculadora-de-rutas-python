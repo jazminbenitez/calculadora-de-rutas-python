{
 "cells": [
  {
   "cell_type": "markdown",
   "id": "b067ffce",
   "metadata": {},
   "source": [
    "# 🧺 1. Lista de compras encantada (Listas)\n",
    "- Reto: Crea una lista donde puedas agregar, eliminar y mostrar productos.\n",
    "- Extra: Que no se repitan productos.\n",
    "\n",
    "    🧠 ¡Cuidado con el aguacate! Siempre vuelve a aparecer si no lo eliminas bien...\n",
    "\n"
   ]
  },
  {
   "cell_type": "code",
   "execution_count": 4,
   "id": "3fc6cf94",
   "metadata": {},
   "outputs": [
    {
     "name": "stdout",
     "output_type": "stream",
     "text": [
      "['mnzana', 'pera', 'aguacate']\n"
     ]
    }
   ],
   "source": [
    "compras = [\"mnzana\", \"pera\", \"aguacate\"]\n",
    "print(compras)"
   ]
  },
  {
   "cell_type": "code",
   "execution_count": 1,
   "id": "2c0ce2a2",
   "metadata": {},
   "outputs": [
    {
     "name": "stdout",
     "output_type": "stream",
     "text": [
      "['manzana', 'pera', 'aguacate', 'naranja']\n"
     ]
    }
   ],
   "source": [
    "compras = [\"manzana\", \"pera\", \"aguacate\"]\n",
    "\n",
    "compras.append((\"naranja\"))\n",
    "print(compras)"
   ]
  },
  {
   "cell_type": "code",
   "execution_count": 3,
   "id": "78538626",
   "metadata": {},
   "outputs": [
    {
     "name": "stdout",
     "output_type": "stream",
     "text": [
      "['manzana', 'pera', 'naranja']\n"
     ]
    }
   ],
   "source": [
    "compras.remove((\"aguacate\"))\n",
    "print(compras)"
   ]
  },
  {
   "cell_type": "code",
   "execution_count": null,
   "id": "34f88361",
   "metadata": {},
   "outputs": [],
   "source": []
  }
 ],
 "metadata": {
  "kernelspec": {
   "display_name": "Python 3",
   "language": "python",
   "name": "python3"
  },
  "language_info": {
   "codemirror_mode": {
    "name": "ipython",
    "version": 3
   },
   "file_extension": ".py",
   "mimetype": "text/x-python",
   "name": "python",
   "nbconvert_exporter": "python",
   "pygments_lexer": "ipython3",
   "version": "3.13.5"
  }
 },
 "nbformat": 4,
 "nbformat_minor": 5
}
