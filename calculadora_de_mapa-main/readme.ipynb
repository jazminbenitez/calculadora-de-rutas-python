{
 "cells": [
  {
   "cell_type": "markdown",
   "id": "3adc83ee",
   "metadata": {
    "vscode": {
     "languageId": "plaintext"
    }
   },
   "source": [
    "## 🧭 THE HUDDLE - Calculadora de Rutas para los Elegidos\n",
    "- \"El camino más corto entre dos puntos… también puede tener edificios, agua y zonas bloqueadas. Por suerte, este código los esquiva todos.\"\n",
    "\n"
   ]
  },
  {
   "cell_type": "markdown",
   "id": "f438f434",
   "metadata": {},
   "source": [
    "## 🎯 ¿Qué hace este proyecto?\n",
    "- Este script en Python crea una calculadora de rutas en un mapa tipo ciudad, usando el algoritmo BFS (Breadth-First Search) para encontrar el camino más corto entre un punto de inicio y uno de destino, ¡esquivando obstáculos como si fuera una misión secreta!\n",
    "\n"
   ]
  },
  {
   "cell_type": "markdown",
   "id": "491d4644",
   "metadata": {},
   "source": [
    "## 🔧 ¿Cómo funciona?\n",
    "\n",
    "    1- Mapa Dinámico:\n",
    "\n",
    "- El usuario elige el tamaño del mapa.\n",
    "\n",
    "- Se genera aleatoriamente con caminos, edificios, agua y zonas bloqueadas.\n",
    "\n",
    "\n",
    "    2- Obstáculos Personalizados:\n",
    "\n",
    "- Puedes agregar manualmente obstáculos desde consola (¡como si fueras el villano del juego!).\n",
    "\n",
    "\n",
    "    3- Ingreso de Coordenadas:\n",
    "\n",
    "- El usuario elige dónde empieza y dónde termina.\n",
    "\n",
    "- El sistema verifica que no estén sobre un obstáculo (¡obvio, no podés empezar en una torre o nadar!).\n",
    "\n",
    "\n",
    "    4- Visualización Animada:\n",
    "\n",
    "- Se muestra el mapa con íconos visuales (🏢, 💧, ⛔, 🟫, ⭐).\n",
    "\n",
    "- La ruta se revela paso a paso, como una película de espías.\n",
    "\n",
    "\n",
    "    5- Algoritmo BFS:\n",
    "\n",
    "- Busca el camino más corto sin considerar pesos.\n",
    "\n",
    "- Ideal para mapas planos con obstáculos simples.\n",
    "\n"
   ]
  },
  {
   "cell_type": "markdown",
   "id": "a5e99201",
   "metadata": {},
   "source": [
    "## 🧠 ¿Qué aprendí?\n",
    "    - A manejar matrices bidimensionales en Python.\n",
    "\n",
    "    - Cómo representar terrenos y obstáculos de forma visual.\n",
    "\n",
    "    - A usar BFS como algoritmo de búsqueda de rutas.\n",
    "\n",
    "    - A validar coordenadas y manejar errores de entrada del usuario.\n",
    "\n",
    "    - A hacer que el código sea dinámico y reutilizable, sin tener que modificarlo cada vez."
   ]
  },
  {
   "cell_type": "markdown",
   "id": "c0ca3da7",
   "metadata": {},
   "source": [
    "## 📦 Requisitos\n",
    "    - Python 3\n",
    "\n",
    "    - Biblioteca estándar (no se usan librerías externas)"
   ]
  }
 ],
 "metadata": {
  "language_info": {
   "name": "python"
  }
 },
 "nbformat": 4,
 "nbformat_minor": 5
}
